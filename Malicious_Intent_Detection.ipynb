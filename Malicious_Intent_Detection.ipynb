{
  "nbformat": 4,
  "nbformat_minor": 0,
  "metadata": {
    "accelerator": "GPU",
    "colab": {
      "name": "Malicious Intent Detection.ipynb",
      "provenance": [],
      "collapsed_sections": [],
      "toc_visible": true
    },
    "kernelspec": {
      "display_name": "Python 3",
      "name": "python3"
    }
  },
  "cells": [
    {
      "cell_type": "code",
      "metadata": {
        "id": "QtW0eq3ZsWgE"
      },
      "source": [
        "#some import important Library\n",
        "import pandas as pd\n",
        "import numpy as np \n",
        "import seaborn as sns\n",
        "import matplotlib.pyplot as plt\n",
        "import msgpack"
      ],
      "execution_count": 1,
      "outputs": []
    },
    {
      "cell_type": "code",
      "metadata": {
        "id": "jRXyJURR8zGo"
      },
      "source": [
        "#Load the Data set\n",
        "train_info = pd.read_csv(\"/content/drive/My Drive/train_info.csv\")"
      ],
      "execution_count": 2,
      "outputs": []
    },
    {
      "cell_type": "markdown",
      "metadata": {
        "id": "vctSof2eNMve"
      },
      "source": [
        "#Exploratory Data Analysis (EDA)"
      ]
    },
    {
      "cell_type": "code",
      "metadata": {
        "colab": {
          "base_uri": "https://localhost:8080/",
          "height": 206
        },
        "id": "M1jW0nlW9Rfo",
        "outputId": "f725e375-e0b6-4aae-85cf-5d6e26969c79"
      },
      "source": [
        "train_info.head()"
      ],
      "execution_count": 3,
      "outputs": [
        {
          "output_type": "execute_result",
          "data": {
            "text/html": [
              "<div>\n",
              "<style scoped>\n",
              "    .dataframe tbody tr th:only-of-type {\n",
              "        vertical-align: middle;\n",
              "    }\n",
              "\n",
              "    .dataframe tbody tr th {\n",
              "        vertical-align: top;\n",
              "    }\n",
              "\n",
              "    .dataframe thead th {\n",
              "        text-align: right;\n",
              "    }\n",
              "</style>\n",
              "<table border=\"1\" class=\"dataframe\">\n",
              "  <thead>\n",
              "    <tr style=\"text-align: right;\">\n",
              "      <th></th>\n",
              "      <th>id</th>\n",
              "      <th>injection</th>\n",
              "    </tr>\n",
              "  </thead>\n",
              "  <tbody>\n",
              "    <tr>\n",
              "      <th>0</th>\n",
              "      <td>14577</td>\n",
              "      <td>False</td>\n",
              "    </tr>\n",
              "    <tr>\n",
              "      <th>1</th>\n",
              "      <td>60186</td>\n",
              "      <td>True</td>\n",
              "    </tr>\n",
              "    <tr>\n",
              "      <th>2</th>\n",
              "      <td>58459</td>\n",
              "      <td>True</td>\n",
              "    </tr>\n",
              "    <tr>\n",
              "      <th>3</th>\n",
              "      <td>87091</td>\n",
              "      <td>True</td>\n",
              "    </tr>\n",
              "    <tr>\n",
              "      <th>4</th>\n",
              "      <td>44461</td>\n",
              "      <td>False</td>\n",
              "    </tr>\n",
              "  </tbody>\n",
              "</table>\n",
              "</div>"
            ],
            "text/plain": [
              "      id  injection\n",
              "0  14577      False\n",
              "1  60186       True\n",
              "2  58459       True\n",
              "3  87091       True\n",
              "4  44461      False"
            ]
          },
          "metadata": {
            "tags": []
          },
          "execution_count": 3
        }
      ]
    },
    {
      "cell_type": "code",
      "metadata": {
        "colab": {
          "base_uri": "https://localhost:8080/"
        },
        "id": "E3JGh8cOWmAE",
        "outputId": "ee9e1415-a1e0-4c4d-c3d3-5f8e1d2d6b81"
      },
      "source": [
        "train_info.shape"
      ],
      "execution_count": 4,
      "outputs": [
        {
          "output_type": "execute_result",
          "data": {
            "text/plain": [
              "(65854, 2)"
            ]
          },
          "metadata": {
            "tags": []
          },
          "execution_count": 4
        }
      ]
    },
    {
      "cell_type": "code",
      "metadata": {
        "colab": {
          "base_uri": "https://localhost:8080/"
        },
        "id": "On-zx67CNSk1",
        "outputId": "ad0e7ab2-2c67-48a1-bcde-86083a6cb38e"
      },
      "source": [
        "train_info.columns"
      ],
      "execution_count": 5,
      "outputs": [
        {
          "output_type": "execute_result",
          "data": {
            "text/plain": [
              "Index(['id', 'injection'], dtype='object')"
            ]
          },
          "metadata": {
            "tags": []
          },
          "execution_count": 5
        }
      ]
    },
    {
      "cell_type": "code",
      "metadata": {
        "colab": {
          "base_uri": "https://localhost:8080/"
        },
        "id": "Lb3dtSm9NjgE",
        "outputId": "ec5cca1e-93d3-43bf-da13-ed2b7b635f1b"
      },
      "source": [
        "train_info.dtypes"
      ],
      "execution_count": 6,
      "outputs": [
        {
          "output_type": "execute_result",
          "data": {
            "text/plain": [
              "id           int64\n",
              "injection     bool\n",
              "dtype: object"
            ]
          },
          "metadata": {
            "tags": []
          },
          "execution_count": 6
        }
      ]
    },
    {
      "cell_type": "code",
      "metadata": {
        "colab": {
          "base_uri": "https://localhost:8080/"
        },
        "id": "_lQXyUIzNn60",
        "outputId": "ea8dca58-ed4c-4dab-f550-bb7077c4d99d"
      },
      "source": [
        "train_info['injection'].unique()"
      ],
      "execution_count": 7,
      "outputs": [
        {
          "output_type": "execute_result",
          "data": {
            "text/plain": [
              "array([False,  True])"
            ]
          },
          "metadata": {
            "tags": []
          },
          "execution_count": 7
        }
      ]
    },
    {
      "cell_type": "code",
      "metadata": {
        "colab": {
          "base_uri": "https://localhost:8080/"
        },
        "id": "B2-g6hqKNSam",
        "outputId": "45841cf1-2c46-4af1-95c5-b7c2f15cd750"
      },
      "source": [
        "train_info['injection'].value_counts()"
      ],
      "execution_count": 8,
      "outputs": [
        {
          "output_type": "execute_result",
          "data": {
            "text/plain": [
              "False    33499\n",
              "True     32355\n",
              "Name: injection, dtype: int64"
            ]
          },
          "metadata": {
            "tags": []
          },
          "execution_count": 8
        }
      ]
    },
    {
      "cell_type": "code",
      "metadata": {
        "colab": {
          "base_uri": "https://localhost:8080/"
        },
        "id": "XZ-hIFL4Qo2j",
        "outputId": "5d2bd2dd-334e-4c4a-e7df-6798e46fe3b8"
      },
      "source": [
        "#how to check Null Values in pandas data frame\n",
        "train_info.isnull().sum()"
      ],
      "execution_count": 9,
      "outputs": [
        {
          "output_type": "execute_result",
          "data": {
            "text/plain": [
              "id           0\n",
              "injection    0\n",
              "dtype: int64"
            ]
          },
          "metadata": {
            "tags": []
          },
          "execution_count": 9
        }
      ]
    },
    {
      "cell_type": "code",
      "metadata": {
        "colab": {
          "base_uri": "https://localhost:8080/",
          "height": 477
        },
        "id": "Exv18lPwQ4E1",
        "outputId": "73fd25fc-136d-4406-c87a-87a937ce12b9"
      },
      "source": [
        "#Visulization the Count plot\n",
        "plt.figure(figsize=(8,7))\n",
        "sns.countplot(x='injection',data=train_info)\n",
        "plt.title(\"Count Plot for Categorical Injection Column\")"
      ],
      "execution_count": 10,
      "outputs": [
        {
          "output_type": "execute_result",
          "data": {
            "text/plain": [
              "Text(0.5, 1.0, 'Count Plot for Categorical Injection Column')"
            ]
          },
          "metadata": {
            "tags": []
          },
          "execution_count": 10
        },
        {
          "output_type": "display_data",
          "data": {
            "image/png": "[encoded data removed]",
            "text/plain": [
              "<Figure size 576x504 with 1 Axes>"
            ]
          },
          "metadata": {
            "tags": [],
            "needs_background": "light"
          }
        }
      ]
    },
    {
      "cell_type": "markdown",
      "metadata": {
        "id": "OKseuneHxmDF"
      },
      "source": [
        "#Train msgpack file data as similar to a Json file"
      ]
    },
    {
      "cell_type": "code",
      "metadata": {
        "id": "MnWMSRW6tJwt"
      },
      "source": [
        "with open(\"/content/drive/My Drive/train.msgpack\",'rb') as df1:\n",
        "  train = msgpack.unpack(df1)"
      ],
      "execution_count": 11,
      "outputs": []
    },
    {
      "cell_type": "markdown",
      "metadata": {
        "id": "MSR4v_dSlp8z"
      },
      "source": [
        "#Exploratery data Analysis (EDA)"
      ]
    },
    {
      "cell_type": "code",
      "metadata": {
        "id": "80x3r3VCRnnV"
      },
      "source": [
        "train = pd.DataFrame(train)"
      ],
      "execution_count": 12,
      "outputs": []
    },
    {
      "cell_type": "code",
      "metadata": {
        "colab": {
          "base_uri": "https://localhost:8080/",
          "height": 206
        },
        "id": "Js02nBZyR7V9",
        "outputId": "eb8f1abf-7f7d-4666-e99c-341c61dd26a5"
      },
      "source": [
        "train.head()"
      ],
      "execution_count": 13,
      "outputs": [
        {
          "output_type": "execute_result",
          "data": {
            "text/html": [
              "<div>\n",
              "<style scoped>\n",
              "    .dataframe tbody tr th:only-of-type {\n",
              "        vertical-align: middle;\n",
              "    }\n",
              "\n",
              "    .dataframe tbody tr th {\n",
              "        vertical-align: top;\n",
              "    }\n",
              "\n",
              "    .dataframe thead th {\n",
              "        text-align: right;\n",
              "    }\n",
              "</style>\n",
              "<table border=\"1\" class=\"dataframe\">\n",
              "  <thead>\n",
              "    <tr style=\"text-align: right;\">\n",
              "      <th></th>\n",
              "      <th>0</th>\n",
              "      <th>1</th>\n",
              "    </tr>\n",
              "  </thead>\n",
              "  <tbody>\n",
              "    <tr>\n",
              "      <th>0</th>\n",
              "      <td>59290</td>\n",
              "      <td>' and/**/38&gt;( select\\t(622)/**/from/*362 emhgp...</td>\n",
              "    </tr>\n",
              "    <tr>\n",
              "      <th>1</th>\n",
              "      <td>54992</td>\n",
              "      <td>shqpkt\" union /*!426 all\\t*/(select kwicwt(\\t(...</td>\n",
              "    </tr>\n",
              "    <tr>\n",
              "      <th>2</th>\n",
              "      <td>64287</td>\n",
              "      <td>nhnqag\" uniondistinct--154 298 plhlre exaloq u...</td>\n",
              "    </tr>\n",
              "    <tr>\n",
              "      <th>3</th>\n",
              "      <td>28821</td>\n",
              "      <td>D8j+oNbylTIGw=</td>\n",
              "    </tr>\n",
              "    <tr>\n",
              "      <th>4</th>\n",
              "      <td>27825</td>\n",
              "      <td>ened \\\"&gt;\\n  &lt;head&gt;\\n    &lt;script data-react-hel...</td>\n",
              "    </tr>\n",
              "  </tbody>\n",
              "</table>\n",
              "</div>"
            ],
            "text/plain": [
              "       0                                                  1\n",
              "0  59290  ' and/**/38>( select\\t(622)/**/from/*362 emhgp...\n",
              "1  54992  shqpkt\" union /*!426 all\\t*/(select kwicwt(\\t(...\n",
              "2  64287  nhnqag\" uniondistinct--154 298 plhlre exaloq u...\n",
              "3  28821                                     D8j+oNbylTIGw=\n",
              "4  27825  ened \\\">\\n  <head>\\n    <script data-react-hel..."
            ]
          },
          "metadata": {
            "tags": []
          },
          "execution_count": 13
        }
      ]
    },
    {
      "cell_type": "code",
      "metadata": {
        "colab": {
          "base_uri": "https://localhost:8080/"
        },
        "id": "nCuQLJP9W6SI",
        "outputId": "6719683f-f4ad-47e5-e8f7-f80125539d3a"
      },
      "source": [
        "train.shape"
      ],
      "execution_count": 14,
      "outputs": [
        {
          "output_type": "execute_result",
          "data": {
            "text/plain": [
              "(65854, 2)"
            ]
          },
          "metadata": {
            "tags": []
          },
          "execution_count": 14
        }
      ]
    },
    {
      "cell_type": "code",
      "metadata": {
        "id": "GmXwX-X7yqmr"
      },
      "source": [
        "train.columns = ['id','text']"
      ],
      "execution_count": 15,
      "outputs": []
    },
    {
      "cell_type": "code",
      "metadata": {
        "colab": {
          "base_uri": "https://localhost:8080/",
          "height": 206
        },
        "id": "mcMf1DFSSNVN",
        "outputId": "7a3d93b1-4534-4a2a-af57-5a34cc0bcfa8"
      },
      "source": [
        "train.head(5)"
      ],
      "execution_count": 16,
      "outputs": [
        {
          "output_type": "execute_result",
          "data": {
            "text/html": [
              "<div>\n",
              "<style scoped>\n",
              "    .dataframe tbody tr th:only-of-type {\n",
              "        vertical-align: middle;\n",
              "    }\n",
              "\n",
              "    .dataframe tbody tr th {\n",
              "        vertical-align: top;\n",
              "    }\n",
              "\n",
              "    .dataframe thead th {\n",
              "        text-align: right;\n",
              "    }\n",
              "</style>\n",
              "<table border=\"1\" class=\"dataframe\">\n",
              "  <thead>\n",
              "    <tr style=\"text-align: right;\">\n",
              "      <th></th>\n",
              "      <th>id</th>\n",
              "      <th>text</th>\n",
              "    </tr>\n",
              "  </thead>\n",
              "  <tbody>\n",
              "    <tr>\n",
              "      <th>0</th>\n",
              "      <td>59290</td>\n",
              "      <td>' and/**/38&gt;( select\\t(622)/**/from/*362 emhgp...</td>\n",
              "    </tr>\n",
              "    <tr>\n",
              "      <th>1</th>\n",
              "      <td>54992</td>\n",
              "      <td>shqpkt\" union /*!426 all\\t*/(select kwicwt(\\t(...</td>\n",
              "    </tr>\n",
              "    <tr>\n",
              "      <th>2</th>\n",
              "      <td>64287</td>\n",
              "      <td>nhnqag\" uniondistinct--154 298 plhlre exaloq u...</td>\n",
              "    </tr>\n",
              "    <tr>\n",
              "      <th>3</th>\n",
              "      <td>28821</td>\n",
              "      <td>D8j+oNbylTIGw=</td>\n",
              "    </tr>\n",
              "    <tr>\n",
              "      <th>4</th>\n",
              "      <td>27825</td>\n",
              "      <td>ened \\\"&gt;\\n  &lt;head&gt;\\n    &lt;script data-react-hel...</td>\n",
              "    </tr>\n",
              "  </tbody>\n",
              "</table>\n",
              "</div>"
            ],
            "text/plain": [
              "      id                                               text\n",
              "0  59290  ' and/**/38>( select\\t(622)/**/from/*362 emhgp...\n",
              "1  54992  shqpkt\" union /*!426 all\\t*/(select kwicwt(\\t(...\n",
              "2  64287  nhnqag\" uniondistinct--154 298 plhlre exaloq u...\n",
              "3  28821                                     D8j+oNbylTIGw=\n",
              "4  27825  ened \\\">\\n  <head>\\n    <script data-react-hel..."
            ]
          },
          "metadata": {
            "tags": []
          },
          "execution_count": 16
        }
      ]
    },
    {
      "cell_type": "code",
      "metadata": {
        "colab": {
          "base_uri": "https://localhost:8080/"
        },
        "id": "oePkUp27YxKl",
        "outputId": "3589da56-c74a-4784-e899-b7235369f3b1"
      },
      "source": [
        "train.shape"
      ],
      "execution_count": 17,
      "outputs": [
        {
          "output_type": "execute_result",
          "data": {
            "text/plain": [
              "(65854, 2)"
            ]
          },
          "metadata": {
            "tags": []
          },
          "execution_count": 17
        }
      ]
    },
    {
      "cell_type": "code",
      "metadata": {
        "id": "TUazDm4QCT5L"
      },
      "source": [
        "train = pd.DataFrame(train)"
      ],
      "execution_count": 18,
      "outputs": []
    },
    {
      "cell_type": "code",
      "metadata": {
        "id": "9LGtdweMX_WO"
      },
      "source": [
        "#Merge two file\n",
        "df = pd.merge(train, train_info, on='id')"
      ],
      "execution_count": 19,
      "outputs": []
    },
    {
      "cell_type": "code",
      "metadata": {
        "colab": {
          "base_uri": "https://localhost:8080/",
          "height": 206
        },
        "id": "ZD2AcDq9YGQY",
        "outputId": "a4073517-1059-452c-8850-9280404663e4"
      },
      "source": [
        "df.head()"
      ],
      "execution_count": 20,
      "outputs": [
        {
          "output_type": "execute_result",
          "data": {
            "text/html": [
              "<div>\n",
              "<style scoped>\n",
              "    .dataframe tbody tr th:only-of-type {\n",
              "        vertical-align: middle;\n",
              "    }\n",
              "\n",
              "    .dataframe tbody tr th {\n",
              "        vertical-align: top;\n",
              "    }\n",
              "\n",
              "    .dataframe thead th {\n",
              "        text-align: right;\n",
              "    }\n",
              "</style>\n",
              "<table border=\"1\" class=\"dataframe\">\n",
              "  <thead>\n",
              "    <tr style=\"text-align: right;\">\n",
              "      <th></th>\n",
              "      <th>id</th>\n",
              "      <th>text</th>\n",
              "      <th>injection</th>\n",
              "    </tr>\n",
              "  </thead>\n",
              "  <tbody>\n",
              "    <tr>\n",
              "      <th>0</th>\n",
              "      <td>59290</td>\n",
              "      <td>' and/**/38&gt;( select\\t(622)/**/from/*362 emhgp...</td>\n",
              "      <td>True</td>\n",
              "    </tr>\n",
              "    <tr>\n",
              "      <th>1</th>\n",
              "      <td>54992</td>\n",
              "      <td>shqpkt\" union /*!426 all\\t*/(select kwicwt(\\t(...</td>\n",
              "      <td>True</td>\n",
              "    </tr>\n",
              "    <tr>\n",
              "      <th>2</th>\n",
              "      <td>64287</td>\n",
              "      <td>nhnqag\" uniondistinct--154 298 plhlre exaloq u...</td>\n",
              "      <td>True</td>\n",
              "    </tr>\n",
              "    <tr>\n",
              "      <th>3</th>\n",
              "      <td>28821</td>\n",
              "      <td>D8j+oNbylTIGw=</td>\n",
              "      <td>False</td>\n",
              "    </tr>\n",
              "    <tr>\n",
              "      <th>4</th>\n",
              "      <td>27825</td>\n",
              "      <td>ened \\\"&gt;\\n  &lt;head&gt;\\n    &lt;script data-react-hel...</td>\n",
              "      <td>False</td>\n",
              "    </tr>\n",
              "  </tbody>\n",
              "</table>\n",
              "</div>"
            ],
            "text/plain": [
              "      id                                               text  injection\n",
              "0  59290  ' and/**/38>( select\\t(622)/**/from/*362 emhgp...       True\n",
              "1  54992  shqpkt\" union /*!426 all\\t*/(select kwicwt(\\t(...       True\n",
              "2  64287  nhnqag\" uniondistinct--154 298 plhlre exaloq u...       True\n",
              "3  28821                                     D8j+oNbylTIGw=      False\n",
              "4  27825  ened \\\">\\n  <head>\\n    <script data-react-hel...      False"
            ]
          },
          "metadata": {
            "tags": []
          },
          "execution_count": 20
        }
      ]
    },
    {
      "cell_type": "code",
      "metadata": {
        "colab": {
          "base_uri": "https://localhost:8080/"
        },
        "id": "3v6aZrKhYSA0",
        "outputId": "1f204e54-060e-44a5-ec7a-331afbc103d1"
      },
      "source": [
        "df.isnull().sum()"
      ],
      "execution_count": 21,
      "outputs": [
        {
          "output_type": "execute_result",
          "data": {
            "text/plain": [
              "id           0\n",
              "text         0\n",
              "injection    0\n",
              "dtype: int64"
            ]
          },
          "metadata": {
            "tags": []
          },
          "execution_count": 21
        }
      ]
    },
    {
      "cell_type": "code",
      "metadata": {
        "colab": {
          "base_uri": "https://localhost:8080/"
        },
        "id": "DDKe5u_kXqh_",
        "outputId": "b85c8d56-04f7-41a9-db2b-6beaf789ca17"
      },
      "source": [
        "df.columns"
      ],
      "execution_count": 22,
      "outputs": [
        {
          "output_type": "execute_result",
          "data": {
            "text/plain": [
              "Index(['id', 'text', 'injection'], dtype='object')"
            ]
          },
          "metadata": {
            "tags": []
          },
          "execution_count": 22
        }
      ]
    },
    {
      "cell_type": "code",
      "metadata": {
        "colab": {
          "base_uri": "https://localhost:8080/"
        },
        "id": "8s6xWed_YfjT",
        "outputId": "05027217-88cc-4ba6-de86-7884f094bca6"
      },
      "source": [
        "df['injection'].value_counts()"
      ],
      "execution_count": 23,
      "outputs": [
        {
          "output_type": "execute_result",
          "data": {
            "text/plain": [
              "False    33499\n",
              "True     32355\n",
              "Name: injection, dtype: int64"
            ]
          },
          "metadata": {
            "tags": []
          },
          "execution_count": 23
        }
      ]
    },
    {
      "cell_type": "code",
      "metadata": {
        "colab": {
          "base_uri": "https://localhost:8080/"
        },
        "id": "w-1iwcaYy_6E",
        "outputId": "2c95fa04-03a6-4e72-ecd7-e05dd8542deb"
      },
      "source": [
        "df.shape"
      ],
      "execution_count": 24,
      "outputs": [
        {
          "output_type": "execute_result",
          "data": {
            "text/plain": [
              "(65854, 3)"
            ]
          },
          "metadata": {
            "tags": []
          },
          "execution_count": 24
        }
      ]
    },
    {
      "cell_type": "code",
      "metadata": {
        "id": "SiWh-u1rbiGd"
      },
      "source": [
        "#Remove 'id' column\n",
        "df.drop(['id'],axis=1,inplace=True)"
      ],
      "execution_count": 25,
      "outputs": []
    },
    {
      "cell_type": "code",
      "metadata": {
        "colab": {
          "base_uri": "https://localhost:8080/",
          "height": 206
        },
        "id": "iekNFBS5bx-q",
        "outputId": "4dbbaceb-94b4-44a1-ab0f-277731bb25ae"
      },
      "source": [
        "df.head()"
      ],
      "execution_count": 26,
      "outputs": [
        {
          "output_type": "execute_result",
          "data": {
            "text/html": [
              "<div>\n",
              "<style scoped>\n",
              "    .dataframe tbody tr th:only-of-type {\n",
              "        vertical-align: middle;\n",
              "    }\n",
              "\n",
              "    .dataframe tbody tr th {\n",
              "        vertical-align: top;\n",
              "    }\n",
              "\n",
              "    .dataframe thead th {\n",
              "        text-align: right;\n",
              "    }\n",
              "</style>\n",
              "<table border=\"1\" class=\"dataframe\">\n",
              "  <thead>\n",
              "    <tr style=\"text-align: right;\">\n",
              "      <th></th>\n",
              "      <th>text</th>\n",
              "      <th>injection</th>\n",
              "    </tr>\n",
              "  </thead>\n",
              "  <tbody>\n",
              "    <tr>\n",
              "      <th>0</th>\n",
              "      <td>' and/**/38&gt;( select\\t(622)/**/from/*362 emhgp...</td>\n",
              "      <td>True</td>\n",
              "    </tr>\n",
              "    <tr>\n",
              "      <th>1</th>\n",
              "      <td>shqpkt\" union /*!426 all\\t*/(select kwicwt(\\t(...</td>\n",
              "      <td>True</td>\n",
              "    </tr>\n",
              "    <tr>\n",
              "      <th>2</th>\n",
              "      <td>nhnqag\" uniondistinct--154 298 plhlre exaloq u...</td>\n",
              "      <td>True</td>\n",
              "    </tr>\n",
              "    <tr>\n",
              "      <th>3</th>\n",
              "      <td>D8j+oNbylTIGw=</td>\n",
              "      <td>False</td>\n",
              "    </tr>\n",
              "    <tr>\n",
              "      <th>4</th>\n",
              "      <td>ened \\\"&gt;\\n  &lt;head&gt;\\n    &lt;script data-react-hel...</td>\n",
              "      <td>False</td>\n",
              "    </tr>\n",
              "  </tbody>\n",
              "</table>\n",
              "</div>"
            ],
            "text/plain": [
              "                                                text  injection\n",
              "0  ' and/**/38>( select\\t(622)/**/from/*362 emhgp...       True\n",
              "1  shqpkt\" union /*!426 all\\t*/(select kwicwt(\\t(...       True\n",
              "2  nhnqag\" uniondistinct--154 298 plhlre exaloq u...       True\n",
              "3                                     D8j+oNbylTIGw=      False\n",
              "4  ened \\\">\\n  <head>\\n    <script data-react-hel...      False"
            ]
          },
          "metadata": {
            "tags": []
          },
          "execution_count": 26
        }
      ]
    },
    {
      "cell_type": "code",
      "metadata": {
        "colab": {
          "base_uri": "https://localhost:8080/"
        },
        "id": "RU5yOu8dfQQU",
        "outputId": "e2fd471e-cabc-408d-94c3-7ee2bb426b25"
      },
      "source": [
        "df['injection'].unique()"
      ],
      "execution_count": 27,
      "outputs": [
        {
          "output_type": "execute_result",
          "data": {
            "text/plain": [
              "array([ True, False])"
            ]
          },
          "metadata": {
            "tags": []
          },
          "execution_count": 27
        }
      ]
    },
    {
      "cell_type": "markdown",
      "metadata": {
        "id": "Vzac7zvGln6Z"
      },
      "source": [
        "#Cleaning and Preprocessing the Data set"
      ]
    },
    {
      "cell_type": "code",
      "metadata": {
        "colab": {
          "base_uri": "https://localhost:8080/"
        },
        "id": "6CdSuzKvb2Xf",
        "outputId": "f1f2f2f6-b375-487e-bf87-fffb0c6353ed"
      },
      "source": [
        "#Importing some essential library\n",
        "import nltk\n",
        "import re\n",
        "nltk.download('stopwords')\n",
        "from nltk.corpus import stopwords\n",
        "from nltk.stem import PorterStemmer"
      ],
      "execution_count": 28,
      "outputs": [
        {
          "output_type": "stream",
          "text": [
            "[nltk_data] Downloading package stopwords to /root/nltk_data...\n",
            "[nltk_data]   Unzipping corpora/stopwords.zip.\n"
          ],
          "name": "stdout"
        }
      ]
    },
    {
      "cell_type": "code",
      "metadata": {
        "id": "Wp1Zg1qkb2RQ"
      },
      "source": [
        "#Cleaning the text column\n",
        "corpus = []\n",
        "ps = PorterStemmer()\n",
        "for i in range(0,train.shape[0]):\n",
        "  text = re.sub(pattern='[^a-zA-Z]', repl=' ', string=train.text[i])\n",
        "  text = text.lower()\n",
        "  words = text.split()\n",
        "  words = [word for word in words if word not in set(stopwords.words('english'))]\n",
        "  words = [ps.stem(word) for word in words]\n",
        "  text = ' '.join(words)\n",
        "  corpus.append(text)"
      ],
      "execution_count": 29,
      "outputs": []
    },
    {
      "cell_type": "code",
      "metadata": {
        "colab": {
          "base_uri": "https://localhost:8080/"
        },
        "id": "fejtPktraXO7",
        "outputId": "9a33ff7e-eb1e-4cf2-fae9-46efd113c4a2"
      },
      "source": [
        "corpus[0:10]"
      ],
      "execution_count": 30,
      "outputs": [
        {
          "output_type": "execute_result",
          "data": {
            "text/plain": [
              "['select emhgpv gpnqdn odpxkn qgnoyb htipaw',\n",
              " 'shqpkt union select kwicwt yaaoda konjlq nykna byamlo xfsesf dqoyrp sbecbl lhnjpg kkicjp udkygv hoewxv',\n",
              " 'nhnqag uniondistinct plhlre exaloq unyot select rpfeir rttlat gsjxjq kuoopt vxhuha kfbvww mkhkjq omqjmj gvdira mcrgew oqrhwp jhseux xpayss fctnj vdqoyq apxkvx mhjblm yxnynl lllpue exampl exampl',\n",
              " 'j onbyltigw',\n",
              " 'ene n head n script data react helmet true type text javascript function w byte gettim event exampl exampl var f getelementsbytag byte j f n window document script datalay gtm byte ype text javascript src exampl exampl co byte async script n meta charset utf byte g n link rel stylesheet href static css main byte exampl exampl n titl data react helmet true byte script type text javascript n byte z locat hash byte span div class drop data reactid byte center titl green style data reactid byte data reactid react empti',\n",
              " 'union',\n",
              " 'union yguxsk select exlgjh cirwsi qbtidf xhqujm xwfefv jvxefn rfkgml rpkpyn eacbcl xfofsu ciadln fhsunl purlj isakxn oorhfc bchwnn ktbbku aflkgq hwdrpd qxaslw rwgwov xcaoca ntwgbk gwqebq frtumq jeetey wnonvn vyarfb lxodwk',\n",
              " 'exampl exampl cmeta http equiv set cooki content testizfx e',\n",
              " 'union',\n",
              " 'handler sync exampl exampl j sr mhzpekzcpkcc cuofho e tqea yzvzur mhhuaivogsa oncckpo']"
            ]
          },
          "metadata": {
            "tags": []
          },
          "execution_count": 30
        }
      ]
    },
    {
      "cell_type": "code",
      "metadata": {
        "id": "pamSQHRgaXDE"
      },
      "source": [
        "# Creating Bag of Words\n",
        "from sklearn.feature_extraction.text import TfidfVectorizer\n",
        "tfidf = TfidfVectorizer(max_features=5000)\n",
        "vectors = tfidf.fit_transform(corpus).toarray()\n",
        "feature_names = tfidf.get_feature_names()"
      ],
      "execution_count": 31,
      "outputs": []
    },
    {
      "cell_type": "code",
      "metadata": {
        "id": "cPxODqiW_RJa"
      },
      "source": [
        "X = pd.DataFrame(vectors, columns=feature_names)"
      ],
      "execution_count": 32,
      "outputs": []
    },
    {
      "cell_type": "code",
      "metadata": {
        "colab": {
          "base_uri": "https://localhost:8080/"
        },
        "id": "VH3l7BEt96Rh",
        "outputId": "84ff3ae4-43ff-4f47-bd9e-a4b5787cd5b9"
      },
      "source": [
        "X.shape"
      ],
      "execution_count": 33,
      "outputs": [
        {
          "output_type": "execute_result",
          "data": {
            "text/plain": [
              "(65854, 5000)"
            ]
          },
          "metadata": {
            "tags": []
          },
          "execution_count": 33
        }
      ]
    },
    {
      "cell_type": "code",
      "metadata": {
        "id": "i-VyhEhKtKpo"
      },
      "source": [
        "#Converting bool 'injection' column into numeric form\n",
        "y = np.array([1 if i == True else 0 for i in df.injection.values])"
      ],
      "execution_count": 34,
      "outputs": []
    },
    {
      "cell_type": "code",
      "metadata": {
        "colab": {
          "base_uri": "https://localhost:8080/"
        },
        "id": "UvOMEn3WtR_D",
        "outputId": "7c2633b8-1fd4-4c91-f520-d243a29b443b"
      },
      "source": [
        "y"
      ],
      "execution_count": 35,
      "outputs": [
        {
          "output_type": "execute_result",
          "data": {
            "text/plain": [
              "array([1, 1, 1, ..., 1, 0, 0])"
            ]
          },
          "metadata": {
            "tags": []
          },
          "execution_count": 35
        }
      ]
    },
    {
      "cell_type": "markdown",
      "metadata": {
        "id": "YmHSIPhXj40J"
      },
      "source": [
        "#Split the Data set"
      ]
    },
    {
      "cell_type": "code",
      "metadata": {
        "id": "xz-pXJ8uM2JE"
      },
      "source": [
        "from sklearn.model_selection import train_test_split\n",
        "training_x,test_x,training_y,test_y = train_test_split(X, y,test_size=0.2,random_state=42)"
      ],
      "execution_count": 36,
      "outputs": []
    },
    {
      "cell_type": "markdown",
      "metadata": {
        "id": "TKCuO_B-RpQ-"
      },
      "source": [
        "#Model Building corresponding to training data set"
      ]
    },
    {
      "cell_type": "code",
      "metadata": {
        "colab": {
          "base_uri": "https://localhost:8080/"
        },
        "id": "qKN5A8M2oGye",
        "outputId": "19670275-9003-4c41-d1b2-f7fef5016897"
      },
      "source": [
        "#Logistic Regression Classifier\n",
        "from sklearn.linear_model import LogisticRegression\n",
        "lr = LogisticRegression()\n",
        "lr.fit(training_x,training_y)"
      ],
      "execution_count": 37,
      "outputs": [
        {
          "output_type": "execute_result",
          "data": {
            "text/plain": [
              "LogisticRegression(C=1.0, class_weight=None, dual=False, fit_intercept=True,\n",
              "                   intercept_scaling=1, l1_ratio=None, max_iter=100,\n",
              "                   multi_class='auto', n_jobs=None, penalty='l2',\n",
              "                   random_state=None, solver='lbfgs', tol=0.0001, verbose=0,\n",
              "                   warm_start=False)"
            ]
          },
          "metadata": {
            "tags": []
          },
          "execution_count": 37
        }
      ]
    },
    {
      "cell_type": "code",
      "metadata": {
        "id": "EnZQ721yoTJZ",
        "colab": {
          "base_uri": "https://localhost:8080/"
        },
        "outputId": "f3d92486-ad5d-45ec-8b05-6341f1265d71"
      },
      "source": [
        "y_pred = lr.predict(test_x)\r\n",
        "y_pred"
      ],
      "execution_count": 39,
      "outputs": [
        {
          "output_type": "execute_result",
          "data": {
            "text/plain": [
              "array([1, 1, 1, ..., 0, 0, 0])"
            ]
          },
          "metadata": {
            "tags": []
          },
          "execution_count": 39
        }
      ]
    },
    {
      "cell_type": "code",
      "metadata": {
        "id": "ysd7rUA2oTDi"
      },
      "source": [
        "from sklearn.metrics import accuracy_score"
      ],
      "execution_count": 40,
      "outputs": []
    },
    {
      "cell_type": "code",
      "metadata": {
        "colab": {
          "base_uri": "https://localhost:8080/"
        },
        "id": "wKxrKByPoS7L",
        "outputId": "2a07c33c-7b13-4657-b48e-92177d0806dd"
      },
      "source": [
        "accuracy_score(test_y,y_pred)"
      ],
      "execution_count": 41,
      "outputs": [
        {
          "output_type": "execute_result",
          "data": {
            "text/plain": [
              "0.934780958165667"
            ]
          },
          "metadata": {
            "tags": []
          },
          "execution_count": 41
        }
      ]
    },
    {
      "cell_type": "code",
      "metadata": {
        "colab": {
          "base_uri": "https://localhost:8080/"
        },
        "id": "0PIYxtNysT0f",
        "outputId": "eba7bc62-fdd3-46d6-ea08-e42f47e21ca1"
      },
      "source": [
        "from sklearn.metrics import confusion_matrix\n",
        "from sklearn.metrics import classification_report\n",
        "lr_cm = confusion_matrix(test_y,y_pred)\n",
        "lr_cm"
      ],
      "execution_count": 42,
      "outputs": [
        {
          "output_type": "execute_result",
          "data": {
            "text/plain": [
              "array([[6652,   95],\n",
              "       [ 764, 5660]])"
            ]
          },
          "metadata": {
            "tags": []
          },
          "execution_count": 42
        }
      ]
    },
    {
      "cell_type": "code",
      "metadata": {
        "colab": {
          "base_uri": "https://localhost:8080/"
        },
        "id": "v3sGDo81snr8",
        "outputId": "6cd03f37-a03d-4d2b-97a9-058337506108"
      },
      "source": [
        "print(classification_report(test_y,y_pred))"
      ],
      "execution_count": 43,
      "outputs": [
        {
          "output_type": "stream",
          "text": [
            "              precision    recall  f1-score   support\n",
            "\n",
            "           0       0.90      0.99      0.94      6747\n",
            "           1       0.98      0.88      0.93      6424\n",
            "\n",
            "    accuracy                           0.93     13171\n",
            "   macro avg       0.94      0.93      0.93     13171\n",
            "weighted avg       0.94      0.93      0.93     13171\n",
            "\n"
          ],
          "name": "stdout"
        }
      ]
    },
    {
      "cell_type": "code",
      "metadata": {
        "colab": {
          "base_uri": "https://localhost:8080/",
          "height": 241
        },
        "id": "IAmy-1VGsV_-",
        "outputId": "a6b836f8-802a-4c45-d612-74de72e5b56e"
      },
      "source": [
        "plt.figure(figsize=(5,3))\n",
        "sns.heatmap(data=lr_cm, annot=True, cmap='Blues', xticklabels=['False', 'True'], yticklabels=['False ','True'])\n",
        "plt.xlabel(\"Actual Values\")\n",
        "plt.ylabel(\"Predicted Values\")\n",
        "plt.title(\"Confusion Matrix for Logistic Regression algorithm\")\n",
        "plt.show()"
      ],
      "execution_count": 44,
      "outputs": [
        {
          "output_type": "display_data",
          "data": {
            "image/png": "[encoded data removed]",
            "text/plain": [
              "<Figure size 360x216 with 2 Axes>"
            ]
          },
          "metadata": {
            "tags": [],
            "needs_background": "light"
          }
        }
      ]
    },
    {
      "cell_type": "code",
      "metadata": {
        "colab": {
          "base_uri": "https://localhost:8080/"
        },
        "id": "rRJ2Ddnb7Yqi",
        "outputId": "634bef93-17b7-455a-94e2-1dda37fc0c01"
      },
      "source": [
        "#Multinomial Naive_Bayes\n",
        "from sklearn.naive_bayes import MultinomialNB\n",
        "mnb = MultinomialNB()\n",
        "mnb.fit(training_x,training_y)"
      ],
      "execution_count": 45,
      "outputs": [
        {
          "output_type": "execute_result",
          "data": {
            "text/plain": [
              "MultinomialNB(alpha=1.0, class_prior=None, fit_prior=True)"
            ]
          },
          "metadata": {
            "tags": []
          },
          "execution_count": 45
        }
      ]
    },
    {
      "cell_type": "code",
      "metadata": {
        "id": "d11i9IpDM6gQ",
        "colab": {
          "base_uri": "https://localhost:8080/"
        },
        "outputId": "4c8d3e25-daef-4cd8-c7aa-8853d359d80f"
      },
      "source": [
        "y_pred = mnb.predict(test_x)\r\n",
        "y_pred"
      ],
      "execution_count": 46,
      "outputs": [
        {
          "output_type": "execute_result",
          "data": {
            "text/plain": [
              "array([1, 1, 1, ..., 0, 0, 0])"
            ]
          },
          "metadata": {
            "tags": []
          },
          "execution_count": 46
        }
      ]
    },
    {
      "cell_type": "code",
      "metadata": {
        "id": "h0XHjRGTNF_r"
      },
      "source": [
        "from sklearn.metrics import accuracy_score"
      ],
      "execution_count": 47,
      "outputs": []
    },
    {
      "cell_type": "code",
      "metadata": {
        "colab": {
          "base_uri": "https://localhost:8080/"
        },
        "id": "gNYi91OCNF6d",
        "outputId": "2b989c54-5348-4409-dd43-d8ca61b97589"
      },
      "source": [
        "accuracy_score(test_y,y_pred)"
      ],
      "execution_count": 48,
      "outputs": [
        {
          "output_type": "execute_result",
          "data": {
            "text/plain": [
              "0.9255181838888467"
            ]
          },
          "metadata": {
            "tags": []
          },
          "execution_count": 48
        }
      ]
    },
    {
      "cell_type": "code",
      "metadata": {
        "id": "qRa1Q5yZXnfb"
      },
      "source": [
        "from sklearn.metrics import confusion_matrix\n",
        "from sklearn.metrics import classification_report"
      ],
      "execution_count": 49,
      "outputs": []
    },
    {
      "cell_type": "code",
      "metadata": {
        "colab": {
          "base_uri": "https://localhost:8080/"
        },
        "id": "kk26t8cZXn6H",
        "outputId": "12681272-0de9-4e22-8bf7-02dce5202d4b"
      },
      "source": [
        "mnb_cm = confusion_matrix(test_y,y_pred)\n",
        "mnb_cm"
      ],
      "execution_count": 50,
      "outputs": [
        {
          "output_type": "execute_result",
          "data": {
            "text/plain": [
              "array([[6584,  163],\n",
              "       [ 818, 5606]])"
            ]
          },
          "metadata": {
            "tags": []
          },
          "execution_count": 50
        }
      ]
    },
    {
      "cell_type": "code",
      "metadata": {
        "colab": {
          "base_uri": "https://localhost:8080/"
        },
        "id": "kdyIdBi5Xzk6",
        "outputId": "d210ef75-7dd0-485d-fc79-1da1f88ddc78"
      },
      "source": [
        "print(classification_report(test_y,y_pred))"
      ],
      "execution_count": 51,
      "outputs": [
        {
          "output_type": "stream",
          "text": [
            "              precision    recall  f1-score   support\n",
            "\n",
            "           0       0.89      0.98      0.93      6747\n",
            "           1       0.97      0.87      0.92      6424\n",
            "\n",
            "    accuracy                           0.93     13171\n",
            "   macro avg       0.93      0.92      0.93     13171\n",
            "weighted avg       0.93      0.93      0.93     13171\n",
            "\n"
          ],
          "name": "stdout"
        }
      ]
    },
    {
      "cell_type": "code",
      "metadata": {
        "colab": {
          "base_uri": "https://localhost:8080/",
          "height": 225
        },
        "id": "1C8OYqVBX_xR",
        "outputId": "e7a68a07-1a3a-4a20-8484-fee0799cce8b"
      },
      "source": [
        "plt.figure(figsize=(5,3))\n",
        "sns.heatmap(data=mnb_cm, annot=True, xticklabels=['False', 'True'], yticklabels=['False', 'True'])\n",
        "plt.xlabel(\"Actual Values\")\n",
        "plt.ylabel(\"Predicted Values\")\n",
        "plt.show()"
      ],
      "execution_count": 52,
      "outputs": [
        {
          "output_type": "display_data",
          "data": {
            "image/png": "[encoded data removed]",
            "text/plain": [
              "<Figure size 360x216 with 2 Axes>"
            ]
          },
          "metadata": {
            "tags": [],
            "needs_background": "light"
          }
        }
      ]
    },
    {
      "cell_type": "code",
      "metadata": {
        "colab": {
          "base_uri": "https://localhost:8080/"
        },
        "id": "paAiRmgP0RzH",
        "outputId": "7b991ad3-943a-45b6-86e9-ae0c8eac81c7"
      },
      "source": [
        "#Multinomial Naive Bayes Classifier\n",
        "from sklearn.naive_bayes import MultinomialNB\n",
        "mnb = MultinomialNB()\n",
        "mnb.fit(training_x,training_y)"
      ],
      "execution_count": 53,
      "outputs": [
        {
          "output_type": "execute_result",
          "data": {
            "text/plain": [
              "MultinomialNB(alpha=1.0, class_prior=None, fit_prior=True)"
            ]
          },
          "metadata": {
            "tags": []
          },
          "execution_count": 53
        }
      ]
    },
    {
      "cell_type": "code",
      "metadata": {
        "id": "ZfKUtLwT0Ruo",
        "colab": {
          "base_uri": "https://localhost:8080/"
        },
        "outputId": "634e39cb-0ad1-47aa-f3bd-f049d062f78f"
      },
      "source": [
        "#Predicting the results\n",
        "y_pred = mnb.predict(test_x)\n",
        "y_pred"
      ],
      "execution_count": 54,
      "outputs": [
        {
          "output_type": "execute_result",
          "data": {
            "text/plain": [
              "array([1, 1, 1, ..., 0, 0, 0])"
            ]
          },
          "metadata": {
            "tags": []
          },
          "execution_count": 54
        }
      ]
    },
    {
      "cell_type": "code",
      "metadata": {
        "colab": {
          "base_uri": "https://localhost:8080/"
        },
        "id": "eoCmeu_t0Qir",
        "outputId": "df8bb5c1-15f7-4a45-85c8-3296f178b263"
      },
      "source": [
        "from sklearn.metrics import accuracy_score\n",
        "score = accuracy_score(test_y,y_pred)\n",
        "print(\"-------Score---------\")\n",
        "print(\"Accuracy Score is: {}\".format(round(score*100,2)))"
      ],
      "execution_count": 55,
      "outputs": [
        {
          "output_type": "stream",
          "text": [
            "-------Score---------\n",
            "Accuracy Score is: 92.55\n"
          ],
          "name": "stdout"
        }
      ]
    },
    {
      "cell_type": "code",
      "metadata": {
        "id": "Ii0zFPD_0Pme"
      },
      "source": [
        "#Making the confusion matrix\n",
        "from sklearn.metrics import confusion_matrix\n",
        "cm = confusion_matrix(test_y,y_pred)"
      ],
      "execution_count": 56,
      "outputs": []
    },
    {
      "cell_type": "code",
      "metadata": {
        "colab": {
          "base_uri": "https://localhost:8080/"
        },
        "id": "Q3yM1s-O00pm",
        "outputId": "ebb3137e-d4bb-4384-b4fe-67305d25855b"
      },
      "source": [
        "# Hyperparameter tuning the Naive Bayes Classifier\n",
        "best_accuracy = 0.0\n",
        "alpha_val = 0.0\n",
        "for i in np.arange(0.1,1.1,0.1):\n",
        "  temp_mnb = MultinomialNB(alpha=i)\n",
        "  temp_mnb.fit(training_x, training_y)\n",
        "  temp_y_pred = temp_mnb.predict(test_x)\n",
        "  score = accuracy_score(test_y, temp_y_pred)\n",
        "  print(\"Accuracy score for alpha={} is: {}%\".format(round(i,1), round(score*100,2)))\n",
        "  if score>best_accuracy:\n",
        "    best_accuracy = score\n",
        "    alpha_val = i\n",
        "print('--------------------------------------------')\n",
        "print('The best accuracy is {}% with alpha value as {}'.format(round(best_accuracy*100, 2), round(alpha_val,1)))"
      ],
      "execution_count": 57,
      "outputs": [
        {
          "output_type": "stream",
          "text": [
            "Accuracy score for alpha=0.1 is: 92.65%\n",
            "Accuracy score for alpha=0.2 is: 92.65%\n",
            "Accuracy score for alpha=0.3 is: 92.64%\n",
            "Accuracy score for alpha=0.4 is: 92.64%\n",
            "Accuracy score for alpha=0.5 is: 92.64%\n",
            "Accuracy score for alpha=0.6 is: 92.63%\n",
            "Accuracy score for alpha=0.7 is: 92.61%\n",
            "Accuracy score for alpha=0.8 is: 92.57%\n",
            "Accuracy score for alpha=0.9 is: 92.57%\n",
            "Accuracy score for alpha=1.0 is: 92.55%\n",
            "--------------------------------------------\n",
            "The best accuracy is 92.65% with alpha value as 0.1\n"
          ],
          "name": "stdout"
        }
      ]
    },
    {
      "cell_type": "code",
      "metadata": {
        "colab": {
          "base_uri": "https://localhost:8080/"
        },
        "id": "k09QD8AcNFrt",
        "outputId": "7f9eb521-a149-42aa-9e6b-d19581bb9431"
      },
      "source": [
        "#GaussianNB Classifier\n",
        "from sklearn.naive_bayes import GaussianNB\n",
        "gnb = GaussianNB()\n",
        "gnb.fit(training_x,training_y)"
      ],
      "execution_count": 58,
      "outputs": [
        {
          "output_type": "execute_result",
          "data": {
            "text/plain": [
              "GaussianNB(priors=None, var_smoothing=1e-09)"
            ]
          },
          "metadata": {
            "tags": []
          },
          "execution_count": 58
        }
      ]
    },
    {
      "cell_type": "code",
      "metadata": {
        "colab": {
          "base_uri": "https://localhost:8080/"
        },
        "id": "SJ61QFsIZIMK",
        "outputId": "42167c04-6ae4-496d-f607-377d38e4acb2"
      },
      "source": [
        "y_pred = gnb.predict(test_x)\n",
        "y_pred"
      ],
      "execution_count": 59,
      "outputs": [
        {
          "output_type": "execute_result",
          "data": {
            "text/plain": [
              "array([1, 1, 1, ..., 0, 0, 0])"
            ]
          },
          "metadata": {
            "tags": []
          },
          "execution_count": 59
        }
      ]
    },
    {
      "cell_type": "code",
      "metadata": {
        "id": "LoaRgAMcPTPv"
      },
      "source": [
        "from sklearn.metrics import accuracy_score"
      ],
      "execution_count": 60,
      "outputs": []
    },
    {
      "cell_type": "code",
      "metadata": {
        "colab": {
          "base_uri": "https://localhost:8080/"
        },
        "id": "MpchVgW9PTKx",
        "outputId": "3f1474d5-dd58-4d1a-8300-3104ecf702cf"
      },
      "source": [
        "accuracy_score(test_y,y_pred)"
      ],
      "execution_count": 61,
      "outputs": [
        {
          "output_type": "execute_result",
          "data": {
            "text/plain": [
              "0.8850504897122466"
            ]
          },
          "metadata": {
            "tags": []
          },
          "execution_count": 61
        }
      ]
    },
    {
      "cell_type": "code",
      "metadata": {
        "id": "oMm5M-dmaPzm"
      },
      "source": [
        "from sklearn.metrics import confusion_matrix\n",
        "from sklearn.metrics import classification_report"
      ],
      "execution_count": 62,
      "outputs": []
    },
    {
      "cell_type": "code",
      "metadata": {
        "colab": {
          "base_uri": "https://localhost:8080/"
        },
        "id": "od1mnJyTach-",
        "outputId": "3c971c00-ae57-45c9-c01a-ee54b95c1c4d"
      },
      "source": [
        "gnb_cm = confusion_matrix(test_y,y_pred)\n",
        "gnb_cm"
      ],
      "execution_count": 63,
      "outputs": [
        {
          "output_type": "execute_result",
          "data": {
            "text/plain": [
              "array([[5301, 1446],\n",
              "       [  68, 6356]])"
            ]
          },
          "metadata": {
            "tags": []
          },
          "execution_count": 63
        }
      ]
    },
    {
      "cell_type": "code",
      "metadata": {
        "colab": {
          "base_uri": "https://localhost:8080/"
        },
        "id": "MVhfvR4gaPpC",
        "outputId": "a0b39687-d1dd-400a-b4a3-42706eccd29a"
      },
      "source": [
        "print(classification_report(test_y,y_pred))"
      ],
      "execution_count": 64,
      "outputs": [
        {
          "output_type": "stream",
          "text": [
            "              precision    recall  f1-score   support\n",
            "\n",
            "           0       0.99      0.79      0.88      6747\n",
            "           1       0.81      0.99      0.89      6424\n",
            "\n",
            "    accuracy                           0.89     13171\n",
            "   macro avg       0.90      0.89      0.88     13171\n",
            "weighted avg       0.90      0.89      0.88     13171\n",
            "\n"
          ],
          "name": "stdout"
        }
      ]
    },
    {
      "cell_type": "code",
      "metadata": {
        "colab": {
          "base_uri": "https://localhost:8080/",
          "height": 225
        },
        "id": "pPhMm_lJasyF",
        "outputId": "d6b06c4d-23ef-4efa-9bfc-22c7772da5af"
      },
      "source": [
        "plt.figure(figsize=(5,3))\n",
        "sns.heatmap(data=gnb_cm, annot=True, xticklabels=['False','True'],yticklabels=['False','True'])\n",
        "plt.xlabel(\"Actual Values\")\n",
        "plt.ylabel(\"Predicted Values\")\n",
        "plt.show()"
      ],
      "execution_count": 65,
      "outputs": [
        {
          "output_type": "display_data",
          "data": {
            "image/png": "[encoded data removed]",
            "text/plain": [
              "<Figure size 360x216 with 2 Axes>"
            ]
          },
          "metadata": {
            "tags": [],
            "needs_background": "light"
          }
        }
      ]
    },
    {
      "cell_type": "code",
      "metadata": {
        "colab": {
          "base_uri": "https://localhost:8080/"
        },
        "id": "ZkDnw6CDPS9U",
        "outputId": "8dfa95f0-5c94-456b-c004-076646879973"
      },
      "source": [
        "#AdaBoost Classifier\n",
        "from sklearn.ensemble import AdaBoostClassifier\n",
        "adb = AdaBoostClassifier()\n",
        "adb.fit(training_x,training_y)"
      ],
      "execution_count": 66,
      "outputs": [
        {
          "output_type": "execute_result",
          "data": {
            "text/plain": [
              "AdaBoostClassifier(algorithm='SAMME.R', base_estimator=None, learning_rate=1.0,\n",
              "                   n_estimators=50, random_state=None)"
            ]
          },
          "metadata": {
            "tags": []
          },
          "execution_count": 66
        }
      ]
    },
    {
      "cell_type": "code",
      "metadata": {
        "colab": {
          "base_uri": "https://localhost:8080/"
        },
        "id": "G7snMKKoPS34",
        "outputId": "b66d5799-4157-41aa-a644-7dafa76410e2"
      },
      "source": [
        "y_pred = adb.predict(test_x)\n",
        "y_pred"
      ],
      "execution_count": 67,
      "outputs": [
        {
          "output_type": "execute_result",
          "data": {
            "text/plain": [
              "array([1, 1, 1, ..., 0, 0, 0])"
            ]
          },
          "metadata": {
            "tags": []
          },
          "execution_count": 67
        }
      ]
    },
    {
      "cell_type": "code",
      "metadata": {
        "id": "wNUoVrMAQKMF"
      },
      "source": [
        "from sklearn.metrics import accuracy_score"
      ],
      "execution_count": 68,
      "outputs": []
    },
    {
      "cell_type": "code",
      "metadata": {
        "colab": {
          "base_uri": "https://localhost:8080/"
        },
        "id": "8BSYgQHlQKDp",
        "outputId": "fd820021-e605-4989-a168-f86839454e6a"
      },
      "source": [
        "accuracy_score(test_y,y_pred)"
      ],
      "execution_count": 69,
      "outputs": [
        {
          "output_type": "execute_result",
          "data": {
            "text/plain": [
              "0.9148128464049806"
            ]
          },
          "metadata": {
            "tags": []
          },
          "execution_count": 69
        }
      ]
    },
    {
      "cell_type": "code",
      "metadata": {
        "id": "Dzux7dzwbX11"
      },
      "source": [
        "from sklearn.metrics import confusion_matrix\n",
        "from sklearn.metrics import classification_report"
      ],
      "execution_count": 70,
      "outputs": []
    },
    {
      "cell_type": "code",
      "metadata": {
        "colab": {
          "base_uri": "https://localhost:8080/"
        },
        "id": "1eIPi01ebWvo",
        "outputId": "a5bf120d-24d0-449d-cc83-734c08354332"
      },
      "source": [
        "adb_cm = confusion_matrix(test_y,y_pred)\n",
        "adb_cm"
      ],
      "execution_count": 71,
      "outputs": [
        {
          "output_type": "execute_result",
          "data": {
            "text/plain": [
              "array([[6636,  111],\n",
              "       [1011, 5413]])"
            ]
          },
          "metadata": {
            "tags": []
          },
          "execution_count": 71
        }
      ]
    },
    {
      "cell_type": "code",
      "metadata": {
        "colab": {
          "base_uri": "https://localhost:8080/"
        },
        "id": "7vQv5AhHbWnV",
        "outputId": "8bdcf26f-3028-4b08-9be8-77196dd45840"
      },
      "source": [
        "print(classification_report(test_y,y_pred))"
      ],
      "execution_count": 72,
      "outputs": [
        {
          "output_type": "stream",
          "text": [
            "              precision    recall  f1-score   support\n",
            "\n",
            "           0       0.87      0.98      0.92      6747\n",
            "           1       0.98      0.84      0.91      6424\n",
            "\n",
            "    accuracy                           0.91     13171\n",
            "   macro avg       0.92      0.91      0.91     13171\n",
            "weighted avg       0.92      0.91      0.91     13171\n",
            "\n"
          ],
          "name": "stdout"
        }
      ]
    },
    {
      "cell_type": "code",
      "metadata": {
        "colab": {
          "base_uri": "https://localhost:8080/",
          "height": 225
        },
        "id": "kAm4ihLTbwtD",
        "outputId": "586b8fbc-dded-41a5-a8de-9d6d69192680"
      },
      "source": [
        "plt.figure(figsize=(5,3))\n",
        "sns.heatmap(data=adb_cm,annot=True, xticklabels=['False','True'], yticklabels=['False','True'])\n",
        "plt.xlabel(\"Actual Values\")\n",
        "plt.ylabel(\"Predicted Values\")\n",
        "plt.show()"
      ],
      "execution_count": 73,
      "outputs": [
        {
          "output_type": "display_data",
          "data": {
            "image/png": "[encoded data removed]",
            "text/plain": [
              "<Figure size 360x216 with 2 Axes>"
            ]
          },
          "metadata": {
            "tags": [],
            "needs_background": "light"
          }
        }
      ]
    },
    {
      "cell_type": "code",
      "metadata": {
        "colab": {
          "base_uri": "https://localhost:8080/"
        },
        "id": "9gXADuPRQaZY",
        "outputId": "5b0856be-3381-4aa8-ffef-5994dac6094d"
      },
      "source": [
        "#Random Forest Classifier\n",
        "from sklearn.ensemble import RandomForestClassifier\n",
        "rfc = RandomForestClassifier()\n",
        "rfc.fit(training_x,training_y)"
      ],
      "execution_count": 74,
      "outputs": [
        {
          "output_type": "execute_result",
          "data": {
            "text/plain": [
              "RandomForestClassifier(bootstrap=True, ccp_alpha=0.0, class_weight=None,\n",
              "                       criterion='gini', max_depth=None, max_features='auto',\n",
              "                       max_leaf_nodes=None, max_samples=None,\n",
              "                       min_impurity_decrease=0.0, min_impurity_split=None,\n",
              "                       min_samples_leaf=1, min_samples_split=2,\n",
              "                       min_weight_fraction_leaf=0.0, n_estimators=100,\n",
              "                       n_jobs=None, oob_score=False, random_state=None,\n",
              "                       verbose=0, warm_start=False)"
            ]
          },
          "metadata": {
            "tags": []
          },
          "execution_count": 74
        }
      ]
    },
    {
      "cell_type": "code",
      "metadata": {
        "colab": {
          "base_uri": "https://localhost:8080/"
        },
        "id": "iv25w_XMQZs2",
        "outputId": "0c6df3db-a32b-4072-ddb0-6ae1cd776518"
      },
      "source": [
        "y_pred = rfc.predict(test_x)\n",
        "y_pred"
      ],
      "execution_count": 75,
      "outputs": [
        {
          "output_type": "execute_result",
          "data": {
            "text/plain": [
              "array([1, 1, 1, ..., 0, 0, 0])"
            ]
          },
          "metadata": {
            "tags": []
          },
          "execution_count": 75
        }
      ]
    },
    {
      "cell_type": "code",
      "metadata": {
        "id": "vIzu-3WMQZmg"
      },
      "source": [
        "from sklearn.metrics import accuracy_score"
      ],
      "execution_count": 76,
      "outputs": []
    },
    {
      "cell_type": "code",
      "metadata": {
        "colab": {
          "base_uri": "https://localhost:8080/"
        },
        "id": "CbH76WzWQZfn",
        "outputId": "6e66b729-9853-4711-a42f-8c1d3decf8ab"
      },
      "source": [
        "accuracy_score(test_y,y_pred)"
      ],
      "execution_count": 77,
      "outputs": [
        {
          "output_type": "execute_result",
          "data": {
            "text/plain": [
              "0.9422974717181687"
            ]
          },
          "metadata": {
            "tags": []
          },
          "execution_count": 77
        }
      ]
    },
    {
      "cell_type": "code",
      "metadata": {
        "id": "ubuN0q1ZcbKP"
      },
      "source": [
        "from sklearn.metrics import confusion_matrix\n",
        "from sklearn.metrics import classification_report"
      ],
      "execution_count": 78,
      "outputs": []
    },
    {
      "cell_type": "code",
      "metadata": {
        "colab": {
          "base_uri": "https://localhost:8080/"
        },
        "id": "6-P_mk_8clQn",
        "outputId": "828eeea5-c62c-41a5-9541-a6a68e61076a"
      },
      "source": [
        "rfc_cm = confusion_matrix(test_y,y_pred)\n",
        "rfc_cm"
      ],
      "execution_count": 79,
      "outputs": [
        {
          "output_type": "execute_result",
          "data": {
            "text/plain": [
              "array([[6702,   45],\n",
              "       [ 715, 5709]])"
            ]
          },
          "metadata": {
            "tags": []
          },
          "execution_count": 79
        }
      ]
    },
    {
      "cell_type": "code",
      "metadata": {
        "colab": {
          "base_uri": "https://localhost:8080/",
          "height": 241
        },
        "id": "ffc4ZljtcaR7",
        "outputId": "4fa61427-448e-41ee-a4d5-c75f018d9b9a"
      },
      "source": [
        "plt.figure(figsize=(5,3))\n",
        "sns.heatmap(data=rfc_cm, annot=True, xticklabels=['False','True'],yticklabels=['False','True'])\n",
        "plt.xlabel(\"Actual Values\")\n",
        "plt.ylabel(\"Predicted Values\")\n",
        "plt.title(\"Confusion Matrix Visulization with Random Forest Classifier\")\n",
        "plt.show()"
      ],
      "execution_count": 80,
      "outputs": [
        {
          "output_type": "display_data",
          "data": {
            "image/png": "[encoded data removed]",
            "text/plain": [
              "<Figure size 360x216 with 2 Axes>"
            ]
          },
          "metadata": {
            "tags": [],
            "needs_background": "light"
          }
        }
      ]
    },
    {
      "cell_type": "markdown",
      "metadata": {
        "id": "RmK2ACdyitio"
      },
      "source": [
        "#Test Data set"
      ]
    },
    {
      "cell_type": "code",
      "metadata": {
        "id": "i5TSnMDlbdRI"
      },
      "source": [
        "with open(\"/content/drive/My Drive/test.msgpack\",'rb') as df2:\n",
        "  test = msgpack.unpack(df2)"
      ],
      "execution_count": 82,
      "outputs": []
    },
    {
      "cell_type": "markdown",
      "metadata": {
        "id": "zpMeR5OG5dsO"
      },
      "source": [
        "#Exploratery Data Analysis (EDA)"
      ]
    },
    {
      "cell_type": "code",
      "metadata": {
        "id": "W_Nv-UXSi95E"
      },
      "source": [
        "test = pd.DataFrame(test)"
      ],
      "execution_count": 83,
      "outputs": []
    },
    {
      "cell_type": "code",
      "metadata": {
        "colab": {
          "base_uri": "https://localhost:8080/",
          "height": 206
        },
        "id": "wF6ipExyWnmW",
        "outputId": "fb557587-9ffb-408d-82c3-e94bb3a72b6a"
      },
      "source": [
        "test.head()"
      ],
      "execution_count": 84,
      "outputs": [
        {
          "output_type": "execute_result",
          "data": {
            "text/html": [
              "<div>\n",
              "<style scoped>\n",
              "    .dataframe tbody tr th:only-of-type {\n",
              "        vertical-align: middle;\n",
              "    }\n",
              "\n",
              "    .dataframe tbody tr th {\n",
              "        vertical-align: top;\n",
              "    }\n",
              "\n",
              "    .dataframe thead th {\n",
              "        text-align: right;\n",
              "    }\n",
              "</style>\n",
              "<table border=\"1\" class=\"dataframe\">\n",
              "  <thead>\n",
              "    <tr style=\"text-align: right;\">\n",
              "      <th></th>\n",
              "      <th>0</th>\n",
              "      <th>1</th>\n",
              "    </tr>\n",
              "  </thead>\n",
              "  <tbody>\n",
              "    <tr>\n",
              "      <th>0</th>\n",
              "      <td>43427</td>\n",
              "      <td>/handler_sync_example.example?i=17S8Hq17qCMJVR...</td>\n",
              "    </tr>\n",
              "    <tr>\n",
              "      <th>1</th>\n",
              "      <td>86082</td>\n",
              "      <td>/web/registration?username=&amp;_csrf=24283cb2-566...</td>\n",
              "    </tr>\n",
              "    <tr>\n",
              "      <th>2</th>\n",
              "      <td>19102</td>\n",
              "      <td>&lt;div class=\"nutrifox-label\" data-recipe-id=\"93...</td>\n",
              "    </tr>\n",
              "    <tr>\n",
              "      <th>3</th>\n",
              "      <td>103200</td>\n",
              "      <td>%23%4E%5Clink%57rel=prefetch%52href=22628%5E</td>\n",
              "    </tr>\n",
              "    <tr>\n",
              "      <th>4</th>\n",
              "      <td>95244</td>\n",
              "      <td>%47%4E%5Clink%37rel=prefetch%37href=64417%8E</td>\n",
              "    </tr>\n",
              "  </tbody>\n",
              "</table>\n",
              "</div>"
            ],
            "text/plain": [
              "        0                                                  1\n",
              "0   43427  /handler_sync_example.example?i=17S8Hq17qCMJVR...\n",
              "1   86082  /web/registration?username=&_csrf=24283cb2-566...\n",
              "2   19102  <div class=\"nutrifox-label\" data-recipe-id=\"93...\n",
              "3  103200       %23%4E%5Clink%57rel=prefetch%52href=22628%5E\n",
              "4   95244       %47%4E%5Clink%37rel=prefetch%37href=64417%8E"
            ]
          },
          "metadata": {
            "tags": []
          },
          "execution_count": 84
        }
      ]
    },
    {
      "cell_type": "code",
      "metadata": {
        "colab": {
          "base_uri": "https://localhost:8080/"
        },
        "id": "qNOX716tWq3V",
        "outputId": "9da8b920-245d-4f5b-b8af-e1f4ff957db6"
      },
      "source": [
        "test.shape"
      ],
      "execution_count": 85,
      "outputs": [
        {
          "output_type": "execute_result",
          "data": {
            "text/plain": [
              "(40000, 2)"
            ]
          },
          "metadata": {
            "tags": []
          },
          "execution_count": 85
        }
      ]
    },
    {
      "cell_type": "code",
      "metadata": {
        "id": "J96BIFVlAMBd"
      },
      "source": [
        "test.columns = ['id','text']"
      ],
      "execution_count": 86,
      "outputs": []
    },
    {
      "cell_type": "code",
      "metadata": {
        "colab": {
          "base_uri": "https://localhost:8080/",
          "height": 206
        },
        "id": "DjehQULKzQv8",
        "outputId": "fb5d0767-37ca-46e7-a008-eb206b2bcf14"
      },
      "source": [
        "test.head()"
      ],
      "execution_count": 87,
      "outputs": [
        {
          "output_type": "execute_result",
          "data": {
            "text/html": [
              "<div>\n",
              "<style scoped>\n",
              "    .dataframe tbody tr th:only-of-type {\n",
              "        vertical-align: middle;\n",
              "    }\n",
              "\n",
              "    .dataframe tbody tr th {\n",
              "        vertical-align: top;\n",
              "    }\n",
              "\n",
              "    .dataframe thead th {\n",
              "        text-align: right;\n",
              "    }\n",
              "</style>\n",
              "<table border=\"1\" class=\"dataframe\">\n",
              "  <thead>\n",
              "    <tr style=\"text-align: right;\">\n",
              "      <th></th>\n",
              "      <th>id</th>\n",
              "      <th>text</th>\n",
              "    </tr>\n",
              "  </thead>\n",
              "  <tbody>\n",
              "    <tr>\n",
              "      <th>0</th>\n",
              "      <td>43427</td>\n",
              "      <td>/handler_sync_example.example?i=17S8Hq17qCMJVR...</td>\n",
              "    </tr>\n",
              "    <tr>\n",
              "      <th>1</th>\n",
              "      <td>86082</td>\n",
              "      <td>/web/registration?username=&amp;_csrf=24283cb2-566...</td>\n",
              "    </tr>\n",
              "    <tr>\n",
              "      <th>2</th>\n",
              "      <td>19102</td>\n",
              "      <td>&lt;div class=\"nutrifox-label\" data-recipe-id=\"93...</td>\n",
              "    </tr>\n",
              "    <tr>\n",
              "      <th>3</th>\n",
              "      <td>103200</td>\n",
              "      <td>%23%4E%5Clink%57rel=prefetch%52href=22628%5E</td>\n",
              "    </tr>\n",
              "    <tr>\n",
              "      <th>4</th>\n",
              "      <td>95244</td>\n",
              "      <td>%47%4E%5Clink%37rel=prefetch%37href=64417%8E</td>\n",
              "    </tr>\n",
              "  </tbody>\n",
              "</table>\n",
              "</div>"
            ],
            "text/plain": [
              "       id                                               text\n",
              "0   43427  /handler_sync_example.example?i=17S8Hq17qCMJVR...\n",
              "1   86082  /web/registration?username=&_csrf=24283cb2-566...\n",
              "2   19102  <div class=\"nutrifox-label\" data-recipe-id=\"93...\n",
              "3  103200       %23%4E%5Clink%57rel=prefetch%52href=22628%5E\n",
              "4   95244       %47%4E%5Clink%37rel=prefetch%37href=64417%8E"
            ]
          },
          "metadata": {
            "tags": []
          },
          "execution_count": 87
        }
      ]
    },
    {
      "cell_type": "code",
      "metadata": {
        "id": "BVJsVeskkDYe"
      },
      "source": [
        "#Drop the Id Column\n",
        "test.drop(['id'],axis=1,inplace=True)"
      ],
      "execution_count": 88,
      "outputs": []
    },
    {
      "cell_type": "code",
      "metadata": {
        "colab": {
          "base_uri": "https://localhost:8080/",
          "height": 206
        },
        "id": "49NezurikJnK",
        "outputId": "df0b6b4d-746e-4572-8855-f6fbd904db03"
      },
      "source": [
        "test.head()"
      ],
      "execution_count": 89,
      "outputs": [
        {
          "output_type": "execute_result",
          "data": {
            "text/html": [
              "<div>\n",
              "<style scoped>\n",
              "    .dataframe tbody tr th:only-of-type {\n",
              "        vertical-align: middle;\n",
              "    }\n",
              "\n",
              "    .dataframe tbody tr th {\n",
              "        vertical-align: top;\n",
              "    }\n",
              "\n",
              "    .dataframe thead th {\n",
              "        text-align: right;\n",
              "    }\n",
              "</style>\n",
              "<table border=\"1\" class=\"dataframe\">\n",
              "  <thead>\n",
              "    <tr style=\"text-align: right;\">\n",
              "      <th></th>\n",
              "      <th>text</th>\n",
              "    </tr>\n",
              "  </thead>\n",
              "  <tbody>\n",
              "    <tr>\n",
              "      <th>0</th>\n",
              "      <td>/handler_sync_example.example?i=17S8Hq17qCMJVR...</td>\n",
              "    </tr>\n",
              "    <tr>\n",
              "      <th>1</th>\n",
              "      <td>/web/registration?username=&amp;_csrf=24283cb2-566...</td>\n",
              "    </tr>\n",
              "    <tr>\n",
              "      <th>2</th>\n",
              "      <td>&lt;div class=\"nutrifox-label\" data-recipe-id=\"93...</td>\n",
              "    </tr>\n",
              "    <tr>\n",
              "      <th>3</th>\n",
              "      <td>%23%4E%5Clink%57rel=prefetch%52href=22628%5E</td>\n",
              "    </tr>\n",
              "    <tr>\n",
              "      <th>4</th>\n",
              "      <td>%47%4E%5Clink%37rel=prefetch%37href=64417%8E</td>\n",
              "    </tr>\n",
              "  </tbody>\n",
              "</table>\n",
              "</div>"
            ],
            "text/plain": [
              "                                                text\n",
              "0  /handler_sync_example.example?i=17S8Hq17qCMJVR...\n",
              "1  /web/registration?username=&_csrf=24283cb2-566...\n",
              "2  <div class=\"nutrifox-label\" data-recipe-id=\"93...\n",
              "3       %23%4E%5Clink%57rel=prefetch%52href=22628%5E\n",
              "4       %47%4E%5Clink%37rel=prefetch%37href=64417%8E"
            ]
          },
          "metadata": {
            "tags": []
          },
          "execution_count": 89
        }
      ]
    },
    {
      "cell_type": "markdown",
      "metadata": {
        "id": "rBcjMhxhlW-V"
      },
      "source": [
        "#Cleaning and Preprocessing the Data set"
      ]
    },
    {
      "cell_type": "code",
      "metadata": {
        "colab": {
          "base_uri": "https://localhost:8080/"
        },
        "id": "wMfCJeaLiOee",
        "outputId": "35b5bbfe-7699-422c-c684-9ca33d2e0be3"
      },
      "source": [
        "#Import Some Important library for NLP\n",
        "import nltk\n",
        "import re\n",
        "nltk.download('stopwords')\n",
        "from nltk.corpus import stopwords\n",
        "from nltk.stem import PorterStemmer"
      ],
      "execution_count": 90,
      "outputs": [
        {
          "output_type": "stream",
          "text": [
            "[nltk_data] Downloading package stopwords to /root/nltk_data...\n",
            "[nltk_data]   Package stopwords is already up-to-date!\n"
          ],
          "name": "stdout"
        }
      ]
    },
    {
      "cell_type": "code",
      "metadata": {
        "id": "8XngBwN3iOWE"
      },
      "source": [
        "#Cleaning the text column\n",
        "corpus = []\n",
        "ps = PorterStemmer()\n",
        "for i in range(0,test.shape[0]):\n",
        "  text = re.sub(pattern='[^a-zA-Z]', repl=' ', string=test.text[i])\n",
        "  text = text.lower()\n",
        "  words = text.split()\n",
        "  words = [word for word in words if word not in set(stopwords.words('english'))]\n",
        "  words = [ps.stem(word) for word in words]\n",
        "  text = ' '.join(words)\n",
        "  corpus.append(text)"
      ],
      "execution_count": 91,
      "outputs": []
    },
    {
      "cell_type": "code",
      "metadata": {
        "colab": {
          "base_uri": "https://localhost:8080/"
        },
        "id": "mQqeyQPoiOL-",
        "outputId": "bb739724-16b0-43e5-dee7-a3cc412f0a2f"
      },
      "source": [
        "corpus[0:10]"
      ],
      "execution_count": 92,
      "outputs": [
        {
          "output_type": "execute_result",
          "data": {
            "text/plain": [
              "['handler sync exampl exampl hq qcmjvrmjtekpb vixexnr jwevc zx onpdhpefkttjmklwoa',\n",
              " 'web registr usernam csrf cb b ae e fb offeraccept offeraccept e cimg src onerror javascript alert e password passwordconfirm',\n",
              " 'div class nutrifox label data recip id div script async src http exampl exampl exampl exampl charset utf script',\n",
              " 'e clink rel prefetch href e',\n",
              " 'e clink rel prefetch href e',\n",
              " 'categori exampl exampl sid c f ec c bde bbd bcc f ee psid bb dd f b fce fd da sessiontyp auditattack crawltyp none attacktyp urlparammanipul originatingengineid e e b b c attacksequ attackparamdesc attackparamindex attackparamsubindex checkid engin lfi agent smartmod nonserverspecificonli attackstr file fc fwindow exampl exampl attackstringprop attack threadid threadtyp auditorstaterequestor',\n",
              " 'f f b',\n",
              " 'taskid useruid dxfoi gyxb u descript span style opac span class tasklist done nbsp span span br br timestamp liveeditordescriptionrevisionid liveeditordescriptionwhoupd dxfoi gyxb u changeway',\n",
              " 'href http exampl exampl io exampl exampl id http exampl exampl io exampl exampl id br href http exampl exampl io exampl exampl path mywork amp http exampl exampl io exampl exampl path mywork amp',\n",
              " 'union select mvqpgj uwmhqk fnixrp ipqfew ytxgnl skvefh nwsedw oxpxuc iyxnit rqeryu gchtya twwtua dbajvi dnhjhf iofjax jdwjmu supycq muwug hjchfl']"
            ]
          },
          "metadata": {
            "tags": []
          },
          "execution_count": 92
        }
      ]
    },
    {
      "cell_type": "markdown",
      "metadata": {
        "id": "PDcvkzSsf-_5"
      },
      "source": [
        "#Prediction"
      ]
    },
    {
      "cell_type": "code",
      "metadata": {
        "id": "OV-Eb0SrkayD"
      },
      "source": [
        "def request_api(sample_api):\n",
        "  sample_api = re.sub(pattern='[^a-zA-Z]',repl=' ', string=sample_api)\n",
        "  sample_api = sample_api.lower()\n",
        "  sample_api_words = sample_api.split()\n",
        "  sample_api_words = [word for word in sample_api_words if not word in set(stopwords.words('english'))]\n",
        "  ps = PorterStemmer()\n",
        "  final_api = [ps.stem(word) for word in sample_api_words]\n",
        "  final_api = ' '.join(final_api)\n",
        "\n",
        "  temp = tfidf.transform([final_api]).toarray()\n",
        "  return rfc.predict(temp)"
      ],
      "execution_count": 93,
      "outputs": []
    },
    {
      "cell_type": "code",
      "metadata": {
        "colab": {
          "base_uri": "https://localhost:8080/"
        },
        "id": "bmk3mdsLppqh",
        "outputId": "482712bf-6be0-4395-f24e-943d92de5c67"
      },
      "source": [
        "test.columns"
      ],
      "execution_count": 94,
      "outputs": [
        {
          "output_type": "execute_result",
          "data": {
            "text/plain": [
              "Index(['text'], dtype='object')"
            ]
          },
          "metadata": {
            "tags": []
          },
          "execution_count": 94
        }
      ]
    },
    {
      "cell_type": "code",
      "metadata": {
        "id": "C2oZwpL6p02n"
      },
      "source": [
        "script_api = test['text']"
      ],
      "execution_count": 95,
      "outputs": []
    },
    {
      "cell_type": "code",
      "metadata": {
        "colab": {
          "base_uri": "https://localhost:8080/"
        },
        "id": "9HCjzuEDp0ur",
        "outputId": "df25e954-537a-4306-b426-9266efb53769"
      },
      "source": [
        "#shape of the data set\r\n",
        "script_api.shape"
      ],
      "execution_count": 96,
      "outputs": [
        {
          "output_type": "execute_result",
          "data": {
            "text/plain": [
              "(40000,)"
            ]
          },
          "metadata": {
            "tags": []
          },
          "execution_count": 96
        }
      ]
    },
    {
      "cell_type": "code",
      "metadata": {
        "id": "BBu7ko_iqfAY"
      },
      "source": [
        "#for generating random Integer Number\n",
        "from random import randint"
      ],
      "execution_count": 97,
      "outputs": []
    },
    {
      "cell_type": "code",
      "metadata": {
        "colab": {
          "base_uri": "https://localhost:8080/"
        },
        "id": "2klkA7ykqe7c",
        "outputId": "2da96fd9-6db6-4b4c-af51-ad6016d567a0"
      },
      "source": [
        "#Predicting values\n",
        "row = randint(0,script_api.shape[0]-1)\n",
        "sample_api = script_api[row]\n",
        "\n",
        "print('API Request: {}'.format(sample_api))\n",
        "if request_api(sample_api):\n",
        "  print('Prediction: This is False api request Means Not Attack Api Request!')\n",
        "else:\n",
        "  print('Prediction: This is True api request Means Attack Api Request.')"
      ],
      "execution_count": 98,
      "outputs": [
        {
          "output_type": "stream",
          "text": [
            "API Request: \" union--\rselect danlux/**/()\n",
            "Prediction: This is False api request Means Not Attack Api Request!\n"
          ],
          "name": "stdout"
        }
      ]
    },
    {
      "cell_type": "code",
      "metadata": {
        "colab": {
          "base_uri": "https://localhost:8080/"
        },
        "id": "qA83NzAMmpuB",
        "outputId": "48052c72-6c4b-4c49-e374-04e750463138"
      },
      "source": [
        "#Predicting values\n",
        "row = randint(0,script_api.shape[0]-1)\n",
        "sample_api = script_api[row]\n",
        "\n",
        "print('API Request: {}'.format(sample_api))\n",
        "if request_api(sample_api):\n",
        "  print('Prediction: This is False api request Means Not Attack Api Request!')\n",
        "else:\n",
        "  print('Prediction: This is True api request Means Attack Api Request.')"
      ],
      "execution_count": 99,
      "outputs": [
        {
          "output_type": "stream",
          "text": [
            "API Request: /handler_sync_example.example?i=pRAiL2fYiTsi3MyqfBTuuiuhXW3+W3yD5O+ONVYHXCdjFzbw6wdtkiFvyf5=\n",
            "Prediction: This is True api request Means Attack Api Request.\n"
          ],
          "name": "stdout"
        }
      ]
    },
    {
      "cell_type": "code",
      "metadata": {
        "id": "4BSVZA9meB4C"
      },
      "source": [
        ""
      ],
      "execution_count": null,
      "outputs": []
    }
  ]
}